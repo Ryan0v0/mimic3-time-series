{
 "cells": [
  {
   "cell_type": "code",
   "execution_count": 2,
   "metadata": {},
   "outputs": [
    {
     "name": "stdout",
     "output_type": "stream",
     "text": [
      "Namespace(C=0.001, data='in_hospital_mortality/lr/../../../data/in-hospital-mortality/', features='all', l2=True, output_dir='in_hospital_mortality/lr/', period='all')\n",
      "Reading data and extracting features ...\n",
      "  train data shape = (17939, 714)\n",
      "  validation data shape = (3222, 714)\n",
      "  test data shape = (3236, 714)\n",
      "Imputing missing values ...\n",
      "/home/yanke/anaconda2/envs/pytorch/lib/python3.6/site-packages/sklearn/utils/deprecation.py:58: DeprecationWarning: Class Imputer is deprecated; Imputer was deprecated in version 0.20 and will be removed in 0.22. Import impute.SimpleImputer from sklearn instead.\n",
      "  warnings.warn(msg, category=DeprecationWarning)\n",
      "Normalizing the data to have zero mean and unit variance ...\n",
      "/home/yanke/anaconda2/envs/pytorch/lib/python3.6/site-packages/sklearn/linear_model/logistic.py:433: FutureWarning: Default solver will be changed to 'lbfgs' in 0.22. Specify a solver to silence this warning.\n",
      "  FutureWarning)\n",
      "confusion matrix:\n",
      "[[15498   421]\n",
      " [ 1362   658]]\n",
      "accuracy = 0.9006075859069824\n",
      "precision class 0 = 0.9192171096801758\n",
      "precision class 1 = 0.6098238825798035\n",
      "recall class 0 = 0.9735535979270935\n",
      "recall class 1 = 0.32574257254600525\n",
      "AUC of ROC = 0.8627642477169383\n",
      "AUC of PRC = 0.5077844349958601\n",
      "min(+P, Se) = 0.4960552268244576\n",
      "confusion matrix:\n",
      "[[2672  114]\n",
      " [ 291  145]]\n",
      "accuracy = 0.8743016719818115\n",
      "precision class 0 = 0.9017887115478516\n",
      "precision class 1 = 0.5598455667495728\n",
      "recall class 0 = 0.9590811133384705\n",
      "recall class 1 = 0.33256879448890686\n",
      "AUC of ROC = 0.8244054479474698\n",
      "AUC of PRC = 0.4597797181957271\n",
      "min(+P, Se) = 0.4823008849557522\n",
      "confusion matrix:\n",
      "[[2761  101]\n",
      " [ 239  135]]\n",
      "accuracy = 0.8949320316314697\n",
      "precision class 0 = 0.9203333258628845\n",
      "precision class 1 = 0.5720338821411133\n",
      "recall class 0 = 0.964709997177124\n",
      "recall class 1 = 0.36096256971359253\n",
      "AUC of ROC = 0.8151502072145802\n",
      "AUC of PRC = 0.4298978665522281\n",
      "min(+P, Se) = 0.42819148936170215\n"
     ]
    }
   ],
   "source": [
    "! python in_hospital_mortality/lr/main.py --l2 --C 0.001 --output_dir in_hospital_mortality/lr/"
   ]
  },
  {
   "cell_type": "code",
   "execution_count": null,
   "metadata": {},
   "outputs": [],
   "source": []
  }
 ],
 "metadata": {
  "kernelspec": {
   "display_name": "Python [conda env:pytorch] *",
   "language": "python",
   "name": "conda-env-pytorch-py"
  },
  "language_info": {
   "codemirror_mode": {
    "name": "ipython",
    "version": 3
   },
   "file_extension": ".py",
   "mimetype": "text/x-python",
   "name": "python",
   "nbconvert_exporter": "python",
   "pygments_lexer": "ipython3",
   "version": "3.6.8"
  }
 },
 "nbformat": 4,
 "nbformat_minor": 2
}
