{
 "cells": [
  {
   "cell_type": "code",
   "execution_count": 3,
   "metadata": {},
   "outputs": [
    {
     "name": "stdout",
     "output_type": "stream",
     "text": [
      "Namespace(data='in_hospital_mortality/xgboost/../../../data/in-hospital-mortality/', features='all', output_dir='in_hospital_mortality/xgboost/', period='all')\n",
      "Reading data and extracting features ...\n",
      "number of get_number_of_examples 17939\n",
      "number of get_number_of_examples 3222\n",
      "number of get_number_of_examples 3236\n",
      "  train data shape = (17939, 714)\n",
      "  validation data shape = (3222, 714)\n",
      "  test data shape = (3236, 714)\n",
      "Imputing missing values ...\n",
      "/home/yanke/anaconda2/envs/pytorch/lib/python3.6/site-packages/sklearn/utils/deprecation.py:58: DeprecationWarning: Class Imputer is deprecated; Imputer was deprecated in version 0.20 and will be removed in 0.22. Import impute.SimpleImputer from sklearn instead.\n",
      "  warnings.warn(msg, category=DeprecationWarning)\n",
      "Normalizing the data to have zero mean and unit variance ...\n",
      "[19:26:40] WARNING: /workspace/src/objective/regression_obj.cu:152: reg:linear is now deprecated in favor of reg:squarederror.\n",
      "confusion matrix:\n",
      "[[15919     0]\n",
      " [    0  2020]]\n",
      "accuracy = 1.0\n",
      "precision class 0 = 1.0\n",
      "precision class 1 = 1.0\n",
      "recall class 0 = 1.0\n",
      "recall class 1 = 1.0\n",
      "AUC of ROC = 0.9999999999999999\n",
      "AUC of PRC = 1.0\n",
      "min(+P, Se) = 1.0\n",
      "confusion matrix:\n",
      "[[2694   92]\n",
      " [ 293  143]]\n",
      "accuracy = 0.8805090188980103\n",
      "precision class 0 = 0.901908278465271\n",
      "precision class 1 = 0.6085106134414673\n",
      "recall class 0 = 0.9669777750968933\n",
      "recall class 1 = 0.3279816508293152\n",
      "AUC of ROC = 0.8197137390754559\n",
      "AUC of PRC = 0.5069468449604171\n",
      "min(+P, Se) = 0.5034013605442177\n",
      "confusion matrix:\n",
      "[[2776   86]\n",
      " [ 258  116]]\n",
      "accuracy = 0.8936959505081177\n",
      "precision class 0 = 0.9149637222290039\n",
      "precision class 1 = 0.5742574334144592\n",
      "recall class 0 = 0.9699510931968689\n",
      "recall class 1 = 0.31016042828559875\n",
      "AUC of ROC = 0.8218561867285507\n",
      "AUC of PRC = 0.4789604068647974\n",
      "min(+P, Se) = 0.48404255319148937\n"
     ]
    }
   ],
   "source": [
    "! python in_hospital_mortality/xgboost/main.py  --output_dir in_hospital_mortality/xgboost/"
   ]
  },
  {
   "cell_type": "code",
   "execution_count": null,
   "metadata": {},
   "outputs": [],
   "source": []
  }
 ],
 "metadata": {
  "kernelspec": {
   "display_name": "Python [conda env:pytorch] *",
   "language": "python",
   "name": "conda-env-pytorch-py"
  },
  "language_info": {
   "codemirror_mode": {
    "name": "ipython",
    "version": 3
   },
   "file_extension": ".py",
   "mimetype": "text/x-python",
   "name": "python",
   "nbconvert_exporter": "python",
   "pygments_lexer": "ipython3",
   "version": "3.6.8"
  }
 },
 "nbformat": 4,
 "nbformat_minor": 2
}
